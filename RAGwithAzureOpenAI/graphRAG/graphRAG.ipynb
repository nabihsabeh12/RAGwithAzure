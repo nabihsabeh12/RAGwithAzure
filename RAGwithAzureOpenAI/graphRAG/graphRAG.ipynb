{
 "cells": [
  {
   "cell_type": "markdown",
   "metadata": {},
   "source": [
    "## Graph RAG with Neo4j and Azure OpenAI\n"
   ]
  },
{
 "cell_type":"markdown",
 "metadata": {},
 "source": [
    "<img src=\"./architecture.png\">"
]
},
  {
   "cell_type": "markdown",
   "metadata": {},
   "source": [
    "### installing dependencies\n"
   ]
  },
  {
   "cell_type": "code",
   "execution_count": null,
   "metadata": {},
   "outputs": [],
   "source": [
    "%pip install openai"
   ]
  },
  {
   "cell_type": "code",
   "execution_count": null,
   "metadata": {},
   "outputs": [],
   "source": [
    "from openai import AzureOpenAI\n",
    "import os\n",
    "from dotenv import load_dotenv\n",
    "load_dotenv()"
   ]
  },
  {
   "cell_type": "markdown",
   "metadata": {},
   "source": [
    "### Creating Azure OpenAI Client"
   ]
  },
  {
   "cell_type": "code",
   "execution_count": null,
   "metadata": {},
   "outputs": [],
   "source": [
    "azure_openai_endpoint = os.getenv(\"AZURE_OPENAI_ENDPOINT\")  \n",
    "azure_openai_key = os.getenv(\"AZURE_OPENAI_KEY\")\n",
    "\n",
    "azure_openai_client = AzureOpenAI(\n",
    "    api_key=azure_openai_key,\n",
    "    api_version=\"2024-02-15-preview\",\n",
    "    azure_endpoint=azure_openai_endpoint\n",
    ")"
   ]
  },
  {
   "cell_type": "code",
   "execution_count": null,
   "metadata": {},
   "outputs": [],
   "source": [
    "ontology_list = []"
   ]
  },
  {
   "cell_type": "markdown",
   "metadata": {},
   "source": [
    "### Creating a function to identify nodes and their relationships\n",
    "the code will send a call to GPT engine and the GPT engine will output nodes and relationships based upon the ontology defined in the prompt we feed\n",
    "it with"
   ]
  },
  {
   "cell_type": "code",
   "execution_count": null,
   "metadata": {},
   "outputs": [],
   "source": [
    "def identitfy_relationships_and_nodes(file_text):\n",
    "    \n",
    "    system_prompt = f\"\"\"Assistant is a Named Entity Recognition (NER) expert. The assistant can identify named entities \n",
    "    such as a person, place, or thing. The assistant can also identify entity relationships, which describe\n",
    "    how entities relate to each other (eg: married to, located in, held by). Identify the named entities\n",
    "    and the entity relationships present in the text by returning comma separated list of tuples\n",
    "    representing the relationship between two entities in the format (entity, relationship, entity). Only\n",
    "    generate tuples from the list of entities and the possible entity relationships listed below. Return\n",
    "    only generated tuples in a comma separated tuple separated by a new line for each tuple.\n",
    "\n",
    "    Entities:\n",
    "    - Hotel\n",
    "    - Location\n",
    "    - Facilities\n",
    "    - CustomerTyoe\n",
    "    - Reviewer\n",
    "\n",
    "    Relationships:\n",
    "    - [Hotel],is_located_in,[Location]\n",
    "    - [Hotel],has_facilities,[Facilities]\n",
    "    - [Hotel],has_customers,[CustomerType]\n",
    "    - [Hotel],has_reviewer,[Reviewer]\n",
    "\n",
    "    Example Output:\n",
    "    Creek Hotel,is_located_in,Dubai\n",
    "    Creek Hotel,has_facilities,swimming pool\n",
    "    Creek Hotel,has_customers,Businessmen\n",
    "    Creek Hotel,has_customers,senior citizens\n",
    "    Creek Hotel,has_reviewer,John Doe\n",
    "\n",
    "    \"\"\"\n",
    "\n",
    "    user_prompt = f\"\"\"Identify the named entities and entity relationships in the hotel review text above. Return the\n",
    "    entities and entity relationships in a tuple separated by commas. Return only generated tuples in a\n",
    "    comma separated tuple separated by a new line for each tuple.\n",
    "\n",
    "    Text: {file_text}\"\"\"\n",
    "\n",
    "\n",
    "    \n",
    "    chat_completions_response = azure_openai_client.chat.completions.create(\n",
    "        model = os.getenv(\"GPT_ENGINE\"),\n",
    "        messages = [\n",
    "            {\"role\": \"system\", \"content\": system_prompt},\n",
    "            {\"role\": \"user\", \"content\": user_prompt}\n",
    "        ],\n",
    "        temperature=0\n",
    "    )\n",
    "    \n",
    "    ontology_list.append(chat_completions_response.choices[0].message.content)\n",
    "\n",
    "    print(chat_completions_response.choices[0].message.content)"
   ]
  },
  {
   "cell_type": "code",
   "execution_count": null,
   "metadata": {},
   "outputs": [],
   "source": [
    "with open(\"./reviews/201801.txt\", \"r\") as file:\n",
    "    file_text = file.read()\n",
    "    identitfy_relationships_and_nodes(file_text)\n",
    "    \n",
    "with open(\"./reviews/201802.txt\", \"r\") as file:\n",
    "    file_text = file.read()\n",
    "    identitfy_relationships_and_nodes(file_text)\n",
    "\n",
    "with open(\"./reviews/201803.txt\", \"r\") as file:\n",
    "    file_text = file.read()\n",
    "    identitfy_relationships_and_nodes(file_text)\n",
    "\n",
    "with open(\"./reviews/201804.txt\", \"r\") as file:\n",
    "    file_text = file.read()\n",
    "    identitfy_relationships_and_nodes(file_text)\n",
    "\n",
    "with open(\"./reviews/201805.txt\", \"r\") as file:\n",
    "    file_text = file.read()\n",
    "    identitfy_relationships_and_nodes(file_text)\n",
    "    \n",
    "    \n"
   ]
  },
  {
   "cell_type": "code",
   "execution_count": null,
   "metadata": {},
   "outputs": [],
   "source": [
    "node_creation_cypher_list = []\n"
   ]
  },
  {
   "cell_type": "markdown",
   "metadata": {},
   "source": [
    "### Creating A Function for Cypher Query Generation\n",
    "Based upon the relationships and nodes derived from the text, we instruct GPT engine to generate cypher query\n",
    "for building a grpah in Neo4j Aura Database\n"
   ]
  },
  {
   "cell_type": "code",
   "execution_count": null,
   "metadata": {},
   "outputs": [],
   "source": [
    "def generate_cypher_for_node_creation(ontology_text):\n",
    "    cypher_system_prompt = f\"\"\" Assistant is an expert in Neo4j Cypher development. Create a cypher query to generate a graph using the data points provided. \n",
    "    make sure to only include the cypher query in your response so that I can directly send this cypher query to the Neo4j database API endpoint\n",
    "    via a POST request. The data is in the format of a comma separated tuple separated by a new line for each tuple.\n",
    "\n",
    "    \"\"\"\n",
    "    \n",
    "    cypher_user_prompt = f\"\"\"Generate a cypher query to create new nodes and their relationships given the data provided. Return only the cypher query. \n",
    "    Data is composed of relationships between entities that have been extracted using NER.\n",
    "    The data is in the format of a comma separated tuple separated by a new line for each tuple.\n",
    "    \n",
    "    Example Input: \n",
    "    Creek Hotel,is_located_in,Dubai\n",
    "    Creek Hotel,has_customers,businessmen\n",
    "    Creek Hotel,has_customers,tourists\n",
    "    Creek Hotel,has_reviewer,Ryouta Sato\n",
    "    Creeh Hotel,has_facilities,swimming pool\n",
    "\n",
    "    Example Output:\n",
    "    CREATE (ch:Hotel {{name: 'Creek Hotel'}})-[:is_located_in]->(d:Location {{name: 'Dubai'}}),\n",
    "        (ch)-[:has_customers]->(b:CustomerType {{name: 'businessmen'}}),\n",
    "        (ch)-[:has_customers]->(t:CustomerType {{name: 'tourists'}}),\n",
    "        (ch)-[:has_reviewer]->(rs:Reviewer {{name: 'Ryouta Sato'}})\n",
    "        (ch)-[:has_facilities]->(sp:Facilities {{name: 'swimming pool'}})\n",
    "        \n",
    "    strictly stick to the above output format\n",
    "    \n",
    "    use distinct variable names for each node and relationship to avoid conflicts\n",
    "\n",
    "    the data is: {ontology_text}\n",
    "\n",
    "    \"\"\"\n",
    "    \n",
    "    cypher_query = azure_openai_client.chat.completions.create(\n",
    "        model = os.getenv(\"GPT_ENGINE\"),\n",
    "        messages = [\n",
    "            {\"role\": \"system\", \"content\": cypher_system_prompt},\n",
    "            {\"role\": \"user\", \"content\": cypher_user_prompt}\n",
    "        ],\n",
    "        temperature=0\n",
    "    )\n",
    "    \n",
    "    node_creation_cypher_list.append(cypher_query.choices[0].message.content)\n",
    "\n",
    "    print(cypher_query.choices[0].message.content)"
   ]
  },
  {
   "cell_type": "code",
   "execution_count": null,
   "metadata": {},
   "outputs": [],
   "source": [
    "for x in ontology_list:\n",
    "    generate_cypher_for_node_creation(x)"
   ]
  },
  {
   "cell_type": "code",
   "execution_count": null,
   "metadata": {},
   "outputs": [],
   "source": [
    "for x in node_creation_cypher_list:\n",
    "    print(x)"
   ]
  },
  {
   "cell_type": "code",
   "execution_count": null,
   "metadata": {},
   "outputs": [],
   "source": [
    "%pip install neo4j"
   ]
  },
  {
   "cell_type": "code",
   "execution_count": null,
   "metadata": {},
   "outputs": [],
   "source": [
    "print(node_creation_cypher_list[0])"
   ]
  },
  {
   "cell_type": "markdown",
   "metadata": {},
   "source": [
    "### Creating Graph in Neo4j Aura Database\n"
   ]
  },
  {
   "cell_type": "code",
   "execution_count": null,
   "metadata": {},
   "outputs": [],
   "source": [
    "from neo4j import GraphDatabase\n",
    "import os\n",
    "\n",
    "uri = os.getenv(\"NEO4J_URI\")\n",
    "\n",
    "url = \"neo4j+s://{}.databases.neo4j.io\".format(uri)\n",
    "\n",
    "neo4j_username = os.getenv(\"NEO4J_USERNAME\")\n",
    "neo4j_password = os.getenv(\"NEO4J_PASSWORD\")\n",
    "\n",
    "driver = GraphDatabase.driver(url, auth=(neo4j_username, neo4j_password))\n",
    "\n",
    "with driver.session() as session:\n",
    "        for cypher_query in node_creation_cypher_list:\n",
    "            session.run(cypher_query)\n",
    "            print(f\"Executed: {cypher_query}\")\n",
    "\n",
    "\n"
   ]
  },
  {
   "cell_type": "markdown",
   "metadata": {},
   "source": [
    "### Defining function for generation of cypher query to retrieve nodes and context based upon user query"
   ]
  },
  {
   "cell_type": "code",
   "execution_count": null,
   "metadata": {},
   "outputs": [],
   "source": [
    "def query_neo4j_graph(user_query):\n",
    "    query_with_cypher_system_prompt = f\"\"\"Assistant is an expert in Neo4j Cypher development. Only return a cypher query based on the user query\n",
    "    the cypher graph has the following schema:\n",
    "\n",
    "    Nodes:\n",
    "    - Hotel\n",
    "    - Location\n",
    "    - Facilities\n",
    "    - CustomerType\n",
    "    - Reviewer\n",
    "\n",
    "    Relationships:\n",
    "    - [Hotel],is_located_in,[Location]\n",
    "    - [Hotel],has_facilities,[Facilities]\n",
    "    - [Hotel],has_customers,[CustomerType]\n",
    "    - [Hotel],has_reviewer,[Reviewer]\n",
    "\n",
    "    example of a node created through cypher query:\n",
    "    {node_creation_cypher_list[0]}\n",
    "    \n",
    "    Example Input:\n",
    "    what hotels are reviewed by Ryouta Sato?\n",
    "    \n",
    "    Example Output:\n",
    "    MATCH (h:Hotel)-[:has_reviewer]-(r:Reviewer {{name: 'Ryouta Sato'}})\n",
    "    RETURN h\n",
    "\n",
    "    stick strictly to the above output format\n",
    "    \"\"\"\n",
    "\n",
    "    query_with_cypher_user_prompt = f\"\"\"Generate a cypher query to answer the user query.\n",
    "    user_query = {user_query}\"\"\"\n",
    "    \n",
    "    query_response = azure_openai_client.chat.completions.create(\n",
    "        model = os.getenv(\"GPT_ENGINE\"),\n",
    "        messages = [\n",
    "            {\"role\": \"system\", \"content\": query_with_cypher_system_prompt},\n",
    "            {\"role\": \"user\", \"content\": query_with_cypher_user_prompt}\n",
    "        ],\n",
    "        temperature=0\n",
    "    )\n",
    "    \n",
    "    \n",
    "    \n",
    "    cypher_query_for_retrieval = query_response.choices[0].message.content\n",
    "    \n",
    "    print(cypher_query_for_retrieval)\n",
    "    \n",
    "    return cypher_query_for_retrieval"
   ]
  },
  {
   "cell_type": "code",
   "execution_count": null,
   "metadata": {},
   "outputs": [],
   "source": [
    "user_query = \"which hotels are visited by businessmen?\"\n",
    "cypher_query_for_retrieval = query_neo4j_graph(user_query)"
   ]
  },
  {
   "cell_type": "code",
   "execution_count": null,
   "metadata": {},
   "outputs": [],
   "source": [
    "import json\n",
    "uri = os.getenv(\"NEO4J_URI\")\n",
    "\n",
    "url = \"neo4j+s://{}.databases.neo4j.io\".format(uri)\n",
    "\n",
    "neo4j_username = os.getenv(\"NEO4J_USERNAME\")\n",
    "neo4j_password = os.getenv(\"NEO4J_PASSWORD\")\n",
    "\n",
    "driver = GraphDatabase.driver(url, auth=(neo4j_username, neo4j_password))\n",
    "with driver.session() as session:\n",
    "        # Run the Cypher query\n",
    "        result = session.run(cypher_query_for_retrieval)\n",
    "        \n",
    "        # Extract and print results\n",
    "        records = [record.data() for record in result]\n",
    "        print(records)"
   ]
  },
  {
   "cell_type": "markdown",
   "metadata": {},
   "source": [
    "### Sending a final call to GPT engine for summarisation"
   ]
  },
  {
   "cell_type": "code",
   "execution_count": null,
   "metadata": {},
   "outputs": [],
   "source": [
    "final_system_prompt = f\"\"\"\" you are an assistant made to help people. You will be provided with the results of \n",
    "a cypher query that returns data from a neo4j database. The results are in the form of list with each object inside\n",
    "the list containing the final result. Answer the user query in a friendly and an easy to understand manner. \n",
    "\n",
    "Note that you will be provided with both the user query that triggered the result and the result itself.\"\"\"\n",
    "\n",
    "final_user_prompt = f\"\"\"Answer the user query using the results of the cypher query provided below.\n",
    "user_query = {user_query}\n",
    "result = {records}\"\"\"\n",
    "\n",
    "final_answer = azure_openai_client.chat.completions.create(\n",
    "    model = os.getenv(\"GPT_ENGINE\"),\n",
    "    messages = [\n",
    "        {\"role\": \"system\", \"content\": final_system_prompt},\n",
    "        {\"role\": \"user\", \"content\": final_user_prompt}\n",
    "    ],\n",
    "    temperature=0.7\n",
    ")\n",
    "\n",
    "print(final_answer.choices[0].message.content)"
   ]
  }
 ],
 "metadata": {
  "kernelspec": {
   "display_name": "Python 3",
   "language": "python",
   "name": "python3"
  },
  "language_info": {
   "codemirror_mode": {
    "name": "ipython",
    "version": 3
   },
   "file_extension": ".py",
   "mimetype": "text/x-python",
   "name": "python",
   "nbconvert_exporter": "python",
   "pygments_lexer": "ipython3",
   "version": "3.11.5"
  }
 },
 "nbformat": 4,
 "nbformat_minor": 2
}
