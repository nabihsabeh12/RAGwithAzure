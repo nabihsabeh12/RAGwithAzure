{
 "cells": [
  {
   "cell_type": "markdown",
   "metadata": {},
   "source": [
    "# MongoDB VCore RAG\n"
   ]
  },
  {
   "cell_type": "markdown",
   "metadata": {},
   "source": [
    "<img src = \"./cosmosdbrag.png\">"
   ]
  },
 {
  "cell_type":"markdown",
  "metadata": {},
  "source": [
    "<img src= \"./components.png\">"
  ]
 },
  {
   "cell_type": "markdown",
   "metadata": {},
   "source": [
    "### Installing Dependecies"
   ]
  },
  {
   "cell_type": "code",
   "execution_count": null,
   "metadata": {},
   "outputs": [],
   "source": [
    "%pip install langchain==0.3.4\n",
    "%pip install langchain-openai==0.2.3\n",
    "%pip install pymongo==4.10.1\n"
   ]
  },
  {
   "cell_type": "code",
   "execution_count": null,
   "metadata": {},
   "outputs": [],
   "source": [
    "from dotenv import load_dotenv\n",
    "import os\n",
    "load_dotenv()"
   ]
  },
  {
   "cell_type": "markdown",
   "metadata": {},
   "source": [
    "### Initialize OpenAI Client\n"
   ]
  },
  {
   "cell_type": "code",
   "execution_count": null,
   "metadata": {},
   "outputs": [],
   "source": [
    "import openai\n",
    "openai.api_type = \"azure\"\n",
    "openai.base_url = os.getenv(\"AZURE_OPENAI_ENDPOINT\")\n",
    "openai.api_version = os.getenv(\"AZURE_OPENAI_API_VERSION\")\n",
    "openai.api_key = os.getenv(\"AZURE_OPENAI_API_KEY\")\n"
   ]
  },
  {
   "cell_type": "markdown",
   "metadata": {},
   "source": [
    "### Initialize MongoDB Client"
   ]
  },
  {
   "cell_type": "code",
   "execution_count": null,
   "metadata": {},
   "outputs": [],
   "source": [
    "from urllib.parse import quote_plus\n",
    "from pymongo import MongoClient\n",
    "mongo_connection_string = os.getenv(\"AZURE_COSMOS_CONNECTION_STRING\")\n",
    "mongo_username = quote_plus(os.getenv(\"AZURE_COSMOS_USERNAME\"))\n",
    "mongo_password = quote_plus(os.getenv(\"AZURE_COSMOS_PASSWORD\"))\n",
    "\n",
    "\n",
    "collection_name = os.getenv(\"AZURE_COSMOS_COLLECTION_NAME\", \"collectionName\")\n",
    "database_name = os.getenv(\"AZURE_COSMOS_DATABASE_NAME\", \"DatabaseName\")\n",
    "\n",
    "mongo_connection_string = mongo_connection_string.replace(\"<user>\", mongo_username).replace(\n",
    "    \"<password>\", mongo_password\n",
    ")\n",
    "\n",
    "# Initialize the MongoClient\n",
    "mongo_client = MongoClient(mongo_connection_string)\n",
    "\n",
    "# Create the database if it doesn't exist\n",
    "db = mongo_client[database_name]\n",
    "\n",
    "# Create the collection if it doesn't exist\n",
    "collection = db[collection_name]"
   ]
  },
  {
   "cell_type": "markdown",
   "metadata": {},
   "source": [
    "### Load Json Data"
   ]
  },
  {
   "cell_type": "code",
   "execution_count": null,
   "metadata": {},
   "outputs": [],
   "source": [
    "import json\n",
    "from langchain.docstore.document import Document\n",
    "\n",
    "source_file_name = \"./food_items.json\"\n",
    "\n",
    "def read_data(file_path) -> list[Document]:\n",
    "    with open(file_path) as file:\n",
    "        json_data = json.load(file)\n",
    "        \n",
    "    documents = []\n",
    "    absolute_path = os.path.abspath(file_path)\n",
    "    for idx, item in enumerate(json_data):\n",
    "         documents.append(\n",
    "            Document(page_content=json.dumps(item), metadata={\"source\": absolute_path, \"seq_num\": idx + 1})\n",
    "        )\n",
    "    \n",
    "    return documents\n",
    "\n"
   ]
  },
  {
   "cell_type": "code",
   "execution_count": null,
   "metadata": {},
   "outputs": [],
   "source": [
    "json_data = read_data(\"./food_items.json\") "
   ]
  },
  {
   "cell_type": "code",
   "execution_count": null,
   "metadata": {},
   "outputs": [],
   "source": [
    "print(json_data[0])"
   ]
  },
  {
   "cell_type": "markdown",
   "metadata": {},
   "source": [
    "### Initialize Embeddings Client"
   ]
  },
  {
   "cell_type": "code",
   "execution_count": null,
   "metadata": {},
   "outputs": [],
   "source": [
    "from langchain_openai import AzureOpenAIEmbeddings\n",
    "\n",
    "openai_embeddings_model = os.getenv(\"AZURE_OPENAI_EMBEDDINGS_MODEL_NAME\")\n",
    "openai_embeddings_deployment = os.getenv(\"AZURE_OPENAI_EMBEDDINGS_DEPLOYMENT_NAME\")\n",
    "\n",
    "azure_openai_embeddings: AzureOpenAIEmbeddings = AzureOpenAIEmbeddings(\n",
    "    model = openai_embeddings_model,\n",
    "    azure_deployment = openai_embeddings_deployment\n",
    ")"
   ]
  },
  {
   "cell_type": "markdown",
   "metadata": {},
   "source": [
    "### Generate and Save Embeddings to MongoDB"
   ]
  },
  {
   "cell_type": "code",
   "execution_count": null,
   "metadata": {},
   "outputs": [],
   "source": [
    "from langchain_community.vectorstores.azure_cosmos_db import AzureCosmosDBVectorSearch\n",
    "\n",
    "index_name = os.getenv(\"AZURE_COSMOS_INDEX_NAME\", \"indexName\")\n",
    "\n",
    "vector_store: AzureCosmosDBVectorSearch = AzureCosmosDBVectorSearch.from_documents(\n",
    "    json_data,\n",
    "    azure_openai_embeddings,\n",
    "    collection=collection,\n",
    "    index_name=index_name\n",
    ")"
   ]
  },
  {
   "cell_type": "code",
   "execution_count": null,
   "metadata": {},
   "outputs": [],
   "source": [
    "from langchain_community.vectorstores.azure_cosmos_db import AzureCosmosDBVectorSearch\n",
    "\n",
    "# Run this to connect to the vector store\n",
    "vector_store: AzureCosmosDBVectorSearch = AzureCosmosDBVectorSearch.from_connection_string(\n",
    "    connection_string=mongo_connection_string,\n",
    "    namespace=f\"{database_name}.{collection_name}\",\n",
    "    embedding=azure_openai_embeddings,\n",
    ")"
   ]
  },
  {
   "cell_type": "markdown",
   "metadata": {},
   "source": [
    "### Create an IVF Vector Index"
   ]
  },
  {
   "cell_type": "code",
   "execution_count": null,
   "metadata": {},
   "outputs": [],
   "source": [
    "from langchain_community.vectorstores.azure_cosmos_db import (\n",
    "    CosmosDBSimilarityType,\n",
    "    CosmosDBVectorSearchType,\n",
    ")\n",
    "\n",
    "# Read more about these variables in detail here. https://learn.microsoft.com/en-us/azure/cosmos-db/mongodb/vcore/vector-search\n",
    "num_lists = 100\n",
    "dimensions = 1536\n",
    "similarity_algorithm = CosmosDBSimilarityType.COS\n",
    "kind = CosmosDBVectorSearchType.VECTOR_IVF\n",
    "m = 16\n",
    "ef_construction = 64\n",
    "\n",
    "# Create the collection and the index\n",
    "vector_store.create_index(num_lists, dimensions, similarity_algorithm, kind, m, ef_construction)"
   ]
  },
  {
   "cell_type": "markdown",
   "metadata": {},
   "source": [
    "### Test Vector Similarity on a query"
   ]
  },
  {
   "cell_type": "code",
   "execution_count": null,
   "metadata": {},
   "outputs": [],
   "source": [
    "query = \"Beef Bacon\"\n",
    "docs = vector_store.similarity_search(query)\n",
    "print(docs[0].page_content)"
   ]
  },
  {
   "cell_type": "markdown",
   "metadata": {},
   "source": [
    "## Bringing RAG to Life!!!!"
   ]
  },
  {
   "cell_type": "markdown",
   "metadata": {},
   "source": [
    "### Defining RAG Workflow with help of a python function\n"
   ]
  },
  {
   "cell_type": "code",
   "execution_count": null,
   "metadata": {},
   "outputs": [],
   "source": [
    "from openai import AzureOpenAI\n",
    "\n",
    "azureOpenAIClient = AzureOpenAI(\n",
    "  azure_endpoint = os.getenv(\"AZURE_OPENAI_ENDPOINT\"), \n",
    "  api_key=os.getenv(\"AZURE_OPENAI_API_KEY\"),  \n",
    "  api_version=\"2024-05-01-preview\"\n",
    ")\n",
    "\n",
    "GPT_model = os.getenv(\"AZURE_OPENAI_GPT_MODEL_NAME\")"
   ]
  },
  {
   "cell_type": "code",
   "execution_count": null,
   "metadata": {},
   "outputs": [],
   "source": [
    "def RAG(query: str) -> str:\n",
    "    docs = vector_store.similarity_search(query)\n",
    "    print(docs)\n",
    "    context = docs[0].page_content\n",
    "    \n",
    "    print(context)\n",
    "    \n",
    "    system_prompt = (\n",
    "        \"you are a cooking assistant meant to answer the user query \\n\"\n",
    "        \"you will be given context to the prompt based upon which you have to answer the user query \\n\"\n",
    "        \"the context of the prompt has been taken from an index created in Azure MongoDB vCore API \\n\"\n",
    "        \"the schema for the context is as follows: \\n\"\n",
    "        \"category: string (the category to which the dish belongs) \\n\"\n",
    "        \"name: string (the name of the dish) \\n\"\n",
    "        \"description: string (the description about the dish) \\n\"\n",
    "        \"price: string (the price of the dish in USD) \\n\"\n",
    "        \"---------------------------------------------- \\n\"\n",
    "        \"strictly answer the user query from the context provided \\n\"\n",
    "    )\n",
    "    \n",
    "    user_prompt = (\n",
    "        f\"user query: {query} \\n\"\n",
    "        \"answer the user query from the context provided \\n\"\n",
    "        \"context: \" + context\n",
    "    )\n",
    "    \n",
    "    response = azureOpenAIClient.chat.completions.create(\n",
    "        model=\"gpt-4\",  # model = \"deployment_name\".\n",
    "        messages=[\n",
    "            {\"role\": \"system\", \"content\": system_prompt},\n",
    "            {\"role\": \"user\", \"content\": user_prompt}\n",
    "        ]\n",
    "    )\n",
    "    \n",
    "    return str(response.choices[0].message.content)\n",
    "    \n",
    "    \n",
    "    "
   ]
  },
  {
   "cell_type": "code",
   "execution_count": null,
   "metadata": {},
   "outputs": [],
   "source": [
    "response = RAG(\"is capuccino available and at what price?\")\n",
    "print(response)"
   ]
  }
 ],
 "metadata": {
  "kernelspec": {
   "display_name": "Python 3",
   "language": "python",
   "name": "python3"
  },
  "language_info": {
   "codemirror_mode": {
    "name": "ipython",
    "version": 3
   },
   "file_extension": ".py",
   "mimetype": "text/x-python",
   "name": "python",
   "nbconvert_exporter": "python",
   "pygments_lexer": "ipython3",
   "version": "3.11.5"
  }
 },
 "nbformat": 4,
 "nbformat_minor": 2
}
